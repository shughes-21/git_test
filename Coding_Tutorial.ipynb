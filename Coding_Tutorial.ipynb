{
  "cells": [
    {
      "cell_type": "markdown",
      "metadata": {
        "id": "view-in-github",
        "colab_type": "text"
      },
      "source": [
        "<a href=\"https://colab.research.google.com/github/shughes-21/git_test/blob/main/Coding_Tutorial.ipynb\" target=\"_parent\"><img src=\"https://colab.research.google.com/assets/colab-badge.svg\" alt=\"Open In Colab\"/></a>"
      ]
    },
    {
      "cell_type": "code",
      "execution_count": null,
      "metadata": {
        "scrolled": true,
        "id": "Cna9ID6Dg2c6"
      },
      "outputs": [],
      "source": [
        "import tensorflow as tf\n",
        "print(tf.__version__)"
      ]
    },
    {
      "cell_type": "markdown",
      "metadata": {
        "id": "Qjkx-NBjg2c8"
      },
      "source": [
        "# Validation, regularisation and callbacks"
      ]
    },
    {
      "cell_type": "markdown",
      "metadata": {
        "id": "bsL6ySKVg2c9"
      },
      "source": [
        " ## Coding tutorials\n",
        " #### [1. Validation sets](#coding_tutorial_1)\n",
        " #### [2. Model regularisation](#coding_tutorial_2)\n",
        " #### [3. Introduction to callbacks](#coding_tutorial_3)\n",
        " #### [4. Early stopping / patience](#coding_tutorial_4)"
      ]
    },
    {
      "cell_type": "markdown",
      "metadata": {
        "id": "3kMVZ94Lg2c9"
      },
      "source": [
        "***\n",
        "<a id=\"coding_tutorial_1\"></a>\n",
        "## Validation sets"
      ]
    },
    {
      "cell_type": "markdown",
      "metadata": {
        "id": "ynLRA8e_g2c9"
      },
      "source": [
        "#### Load the data"
      ]
    },
    {
      "cell_type": "code",
      "execution_count": null,
      "metadata": {
        "id": "2a4IhYVNg2c-"
      },
      "outputs": [],
      "source": [
        "# Load the diabetes dataset\n",
        "\n"
      ]
    },
    {
      "cell_type": "code",
      "execution_count": null,
      "metadata": {
        "id": "0qfIr7-bg2c-"
      },
      "outputs": [],
      "source": [
        "# Save the input and target variables\n",
        "\n"
      ]
    },
    {
      "cell_type": "code",
      "execution_count": null,
      "metadata": {
        "id": "oqUlTMsJg2c-"
      },
      "outputs": [],
      "source": [
        "# Normalise the target data (this will make clearer training curves)\n",
        "\n"
      ]
    },
    {
      "cell_type": "code",
      "execution_count": null,
      "metadata": {
        "id": "_y6EEmjrg2c-"
      },
      "outputs": [],
      "source": [
        "# Split the data into train and test sets\n",
        "\n"
      ]
    },
    {
      "cell_type": "markdown",
      "metadata": {
        "id": "7XqmDo8Rg2c_"
      },
      "source": [
        "#### Train a feedforward neural network model"
      ]
    },
    {
      "cell_type": "code",
      "execution_count": null,
      "metadata": {
        "id": "HR4FcPwvg2c_"
      },
      "outputs": [],
      "source": [
        "# Build the model\n",
        "\n"
      ]
    },
    {
      "cell_type": "code",
      "execution_count": null,
      "metadata": {
        "id": "59GB2lPfg2c_"
      },
      "outputs": [],
      "source": [
        "# Print the model summary\n",
        "\n"
      ]
    },
    {
      "cell_type": "code",
      "execution_count": null,
      "metadata": {
        "id": "K_qi9V7Sg2c_"
      },
      "outputs": [],
      "source": [
        "# Compile the model\n",
        "\n"
      ]
    },
    {
      "cell_type": "code",
      "execution_count": null,
      "metadata": {
        "id": "o4c8KqpIg2c_"
      },
      "outputs": [],
      "source": [
        "# Train the model, with some of the data reserved for validation\n",
        "\n"
      ]
    },
    {
      "cell_type": "code",
      "execution_count": null,
      "metadata": {
        "id": "u81XfdTJg2dA"
      },
      "outputs": [],
      "source": [
        "# Evaluate the model on the test set\n",
        "\n"
      ]
    },
    {
      "cell_type": "markdown",
      "metadata": {
        "id": "Bus0mWjYg2dA"
      },
      "source": [
        "#### Plot the learning curves"
      ]
    },
    {
      "cell_type": "code",
      "execution_count": null,
      "metadata": {
        "id": "5CUvktkSg2dA"
      },
      "outputs": [],
      "source": [
        "import matplotlib.pyplot as plt\n",
        "%matplotlib inline"
      ]
    },
    {
      "cell_type": "code",
      "execution_count": null,
      "metadata": {
        "id": "EMfzjQM-g2dA"
      },
      "outputs": [],
      "source": [
        "# Plot the training and validation loss\n",
        "\n",
        "plt.plot(history.history['loss'])\n",
        "plt.plot(history.history['val_loss'])\n",
        "plt.title('Loss vs. epochs')\n",
        "plt.ylabel('Loss')\n",
        "plt.xlabel('Epoch')\n",
        "plt.legend(['Training', 'Validation'], loc='upper right')\n",
        "plt.show()"
      ]
    },
    {
      "cell_type": "markdown",
      "metadata": {
        "id": "Aex3LwItg2dA"
      },
      "source": [
        "***\n",
        "<a id=\"coding_tutorial_2\"></a>\n",
        "## Model regularisation"
      ]
    },
    {
      "cell_type": "markdown",
      "metadata": {
        "id": "R9JU5fVcg2dB"
      },
      "source": [
        "#### Adding regularisation with weight decay and dropout"
      ]
    },
    {
      "cell_type": "code",
      "execution_count": null,
      "metadata": {
        "id": "_sOuhyv_g2dB"
      },
      "outputs": [],
      "source": [
        "from tensorflow.keras.layers import Dropout\n",
        "from tensorflow.keras import regularizers"
      ]
    },
    {
      "cell_type": "code",
      "execution_count": null,
      "metadata": {
        "id": "cnNVqa7ig2dB"
      },
      "outputs": [],
      "source": [
        "def get_regularised_model(wd, rate):\n",
        "    model = Sequential([\n",
        "        Dense(128, activation=\"relu\", input_shape=(train_data.shape[1],)),\n",
        "        Dense(128, activation=\"relu\"),\n",
        "        Dense(128, activation=\"relu\"),\n",
        "        Dense(128, activation=\"relu\"),\n",
        "        Dense(128, activation=\"relu\"),\n",
        "        Dense(128, activation=\"relu\"),\n",
        "        Dense(1)\n",
        "    ])\n",
        "    return model"
      ]
    },
    {
      "cell_type": "code",
      "execution_count": null,
      "metadata": {
        "id": "91Ghohgmg2dB"
      },
      "outputs": [],
      "source": [
        "# Re-build the model with weight decay and dropout layers\n",
        "\n"
      ]
    },
    {
      "cell_type": "code",
      "execution_count": null,
      "metadata": {
        "id": "mX0jXcYog2dB"
      },
      "outputs": [],
      "source": [
        "# Compile the model\n",
        "\n"
      ]
    },
    {
      "cell_type": "code",
      "execution_count": null,
      "metadata": {
        "id": "Mle5tLtng2dB"
      },
      "outputs": [],
      "source": [
        "# Train the model, with some of the data reserved for validation\n",
        "\n"
      ]
    },
    {
      "cell_type": "code",
      "execution_count": null,
      "metadata": {
        "id": "TY2N0BXhg2dC"
      },
      "outputs": [],
      "source": [
        "# Evaluate the model on the test set\n",
        "\n"
      ]
    },
    {
      "cell_type": "markdown",
      "metadata": {
        "id": "7BUdUVhkg2dC"
      },
      "source": [
        "#### Plot the learning curves"
      ]
    },
    {
      "cell_type": "code",
      "execution_count": null,
      "metadata": {
        "id": "4XSf2-Wug2dC"
      },
      "outputs": [],
      "source": [
        "# Plot the training and validation loss\n",
        "\n",
        "import matplotlib.pyplot as plt\n",
        "\n",
        "plt.plot(history.history['loss'])\n",
        "plt.plot(history.history['val_loss'])\n",
        "plt.title('Loss vs. epochs')\n",
        "plt.ylabel('Loss')\n",
        "plt.xlabel('Epoch')\n",
        "plt.legend(['Training', 'Validation'], loc='upper right')\n",
        "plt.show()"
      ]
    },
    {
      "cell_type": "markdown",
      "metadata": {
        "id": "Te_nKpkPg2dC"
      },
      "source": [
        "***\n",
        "<a id=\"coding_tutorial_3\"></a>\n",
        "## Introduction to callbacks"
      ]
    },
    {
      "cell_type": "markdown",
      "metadata": {
        "id": "fFK-Dk0ig2dC"
      },
      "source": [
        "#### Example training callback"
      ]
    },
    {
      "cell_type": "code",
      "execution_count": null,
      "metadata": {
        "id": "g7opw314g2dC"
      },
      "outputs": [],
      "source": [
        "# Write a custom callback\n",
        "\n"
      ]
    },
    {
      "cell_type": "code",
      "execution_count": null,
      "metadata": {
        "id": "2VTk-seag2dD"
      },
      "outputs": [],
      "source": [
        "# Re-build the model\n",
        "\n"
      ]
    },
    {
      "cell_type": "code",
      "execution_count": null,
      "metadata": {
        "id": "COevSSJig2dD"
      },
      "outputs": [],
      "source": [
        "# Compile the model\n",
        "\n"
      ]
    },
    {
      "cell_type": "markdown",
      "metadata": {
        "id": "_KlZAWutg2dD"
      },
      "source": [
        "#### Train the model with the callback"
      ]
    },
    {
      "cell_type": "code",
      "execution_count": null,
      "metadata": {
        "id": "kGMR0fAJg2dD"
      },
      "outputs": [],
      "source": [
        "# Train the model, with some of the data reserved for validation\n",
        "\n"
      ]
    },
    {
      "cell_type": "code",
      "execution_count": null,
      "metadata": {
        "id": "9-LxUe8Bg2dD"
      },
      "outputs": [],
      "source": [
        "# Evaluate the model\n",
        "\n"
      ]
    },
    {
      "cell_type": "code",
      "execution_count": null,
      "metadata": {
        "id": "XQn3W5cYg2dD"
      },
      "outputs": [],
      "source": [
        "# Make predictions with the model\n",
        "\n"
      ]
    },
    {
      "cell_type": "markdown",
      "metadata": {
        "id": "_787nPxIg2dD"
      },
      "source": [
        "***\n",
        "<a id=\"coding_tutorial_4\"></a>\n",
        "## Early stopping / patience"
      ]
    },
    {
      "cell_type": "markdown",
      "metadata": {
        "id": "hKJftmVFg2dD"
      },
      "source": [
        "#### Re-train the models with early stopping"
      ]
    },
    {
      "cell_type": "code",
      "execution_count": null,
      "metadata": {
        "id": "Zt8fzFTzg2dE"
      },
      "outputs": [],
      "source": [
        "# Re-train the unregularised model\n",
        "\n"
      ]
    },
    {
      "cell_type": "code",
      "execution_count": null,
      "metadata": {
        "id": "wgpR88dYg2dE"
      },
      "outputs": [],
      "source": [
        "# Evaluate the model on the test set\n",
        "\n"
      ]
    },
    {
      "cell_type": "code",
      "execution_count": null,
      "metadata": {
        "id": "8qnGZiIkg2dE"
      },
      "outputs": [],
      "source": [
        "# Re-train the regularised model\n",
        "\n"
      ]
    },
    {
      "cell_type": "code",
      "execution_count": null,
      "metadata": {
        "id": "eYzmnwOxg2dE"
      },
      "outputs": [],
      "source": [
        "# Evaluate the model on the test set\n",
        "\n"
      ]
    },
    {
      "cell_type": "markdown",
      "metadata": {
        "id": "pUalvQAyg2dE"
      },
      "source": [
        "#### Plot the learning curves"
      ]
    },
    {
      "cell_type": "code",
      "execution_count": null,
      "metadata": {
        "id": "Spq0xc6Ng2dE"
      },
      "outputs": [],
      "source": [
        "# Plot the training and validation loss\n",
        "\n",
        "import matplotlib.pyplot as plt\n",
        "\n",
        "fig = plt.figure(figsize=(12, 5))\n",
        "\n",
        "fig.add_subplot(121)\n",
        "\n",
        "plt.plot(unreg_history.history['loss'])\n",
        "plt.plot(unreg_history.history['val_loss'])\n",
        "plt.title('Unregularised model: loss vs. epochs')\n",
        "plt.ylabel('Loss')\n",
        "plt.xlabel('Epoch')\n",
        "plt.legend(['Training', 'Validation'], loc='upper right')\n",
        "\n",
        "fig.add_subplot(122)\n",
        "\n",
        "plt.plot(reg_history.history['loss'])\n",
        "plt.plot(reg_history.history['val_loss'])\n",
        "plt.title('Regularised model: loss vs. epochs')\n",
        "plt.ylabel('Loss')\n",
        "plt.xlabel('Epoch')\n",
        "plt.legend(['Training', 'Validation'], loc='upper right')\n",
        "\n",
        "plt.show()"
      ]
    }
  ],
  "metadata": {
    "kernelspec": {
      "display_name": "Python 3",
      "language": "python",
      "name": "python3"
    },
    "language_info": {
      "codemirror_mode": {
        "name": "ipython",
        "version": 3
      },
      "file_extension": ".py",
      "mimetype": "text/x-python",
      "name": "python",
      "nbconvert_exporter": "python",
      "pygments_lexer": "ipython3",
      "version": "3.7.1"
    },
    "colab": {
      "provenance": [],
      "include_colab_link": true
    }
  },
  "nbformat": 4,
  "nbformat_minor": 0
}